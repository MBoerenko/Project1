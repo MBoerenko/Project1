{
 "cells": [
  {
   "cell_type": "code",
   "execution_count": null,
   "metadata": {},
   "outputs": [],
   "source": [
    "# Dependencies and Setup\n",
    "import matplotlib.pyplot as plt\n",
    "import pandas as pd\n",
    "import numpy as np\n",
    "import requests\n",
    "import time\n",
    "from scipy.stats import linregress\n",
    "import json\n",
    "from census import Census\n",
    "import gmaps\n",
    "import matplotlib.ticker as mtick\n",
    "\n",
    "# Census & gmaps API Keys\n",
    "from config import (api_key, gkey)\n",
    "c = Census(api_key, year=2018)\n",
    "\n",
    "# Configure gmaps\n",
    "gmaps.configure(api_key=gkey)"
   ]
  },
  {
   "cell_type": "code",
   "execution_count": null,
   "metadata": {},
   "outputs": [],
   "source": [
    "#import Racial Data CSV\n",
    "csv_path = \"Resources/Race Data Entry - CRDT.csv\"\n",
    "race_df = pd.read_csv(csv_path)"
   ]
  },
  {
   "cell_type": "code",
   "execution_count": null,
   "metadata": {},
   "outputs": [],
   "source": [
    "#Remove unneccessary columns and rows from race_df\n",
    "del race_df['Deaths_Ethnicity_Unknown']\n",
    "del race_df['Deaths_Ethnicity_NonHispanic']\n",
    "del race_df['Deaths_Ethnicity_Hispanic']\n",
    "del race_df['Cases_Ethnicity_Unknown']\n",
    "del race_df['Cases_Ethnicity_NonHispanic']\n",
    "del race_df['Cases_Ethnicity_Hispanic']\n",
    "race_df = race_df.dropna(thresh=9)\n",
    "race_df = race_df.dropna(subset={'Cases_Total'})\n",
    "race_df = race_df[(race_df['Date'] == 20200715)]"
   ]
  },
  {
   "cell_type": "code",
   "execution_count": null,
   "metadata": {},
   "outputs": [],
   "source": [
    "#import state abbreviations dictionary\n",
    "us_state_abbrev = {\n",
    "    'AL': 'Alabama','AK': 'Alaska','AZ': 'Arizona','AR': 'Arkansas','CA': 'California',\n",
    "    'CO': 'Colorado','CT': 'Connecticut','DE': 'Delaware','FL': 'Florida','GA': 'Georgia',\n",
    "    'HI': 'Hawaii','ID': 'Idaho','IL': 'Illinois','IN': 'Indiana','IA': 'Iowa','KS': 'Kansas',\n",
    "    'KY': 'Kentucky','LA': 'Louisiana','ME': 'Maine','MD': 'Maryland','MA': 'Massachusetts',\n",
    "    'MI': 'Michigan','MN': 'Minnesota','MS': 'Mississippi','MO': 'Missouri','MT': 'Montana',\n",
    "    'NE': 'Nebraska','NV': 'Nevada','NH': 'New Hampshire','NJ': 'New Jersey','NM': 'New Mexico',\n",
    "    'NY': 'New York','NC': 'North Carolina','ND': 'North Dakota','OH': 'Ohio','OK': 'Oklahoma',\n",
    "    'OR': 'Oregon','PA': 'Pennsylvania','RI': 'Rhode Island','SC': 'South Carolina',\n",
    "    'SD': 'South Dakota','TN': 'Tennessee','TX': 'Texas','UT': 'Utah','VT': 'Vermont',\n",
    "    'VA': 'Virginia','WA': 'Washington','WV': 'West Virginia','WI': 'Wisconsin','WY': 'Wyoming',\n",
    "}"
   ]
  },
  {
   "cell_type": "code",
   "execution_count": null,
   "metadata": {},
   "outputs": [],
   "source": [
    "#Update the State to the full name in race_df\n",
    "race_df['State']= race_df['State'].map(us_state_abbrev)"
   ]
  },
  {
   "cell_type": "code",
   "execution_count": null,
   "metadata": {},
   "outputs": [],
   "source": [
    "# Run Census Search to retrieve data on all states\n",
    "census_data = c.acs5.get((\"NAME\", \"B19013_001E\", \"B01003_001E\", \n",
    "                          \"B19301_001E\",\n",
    "                          \"B23025_005E\"), {'for': 'state:*'})\n",
    "\n",
    "# Convert to DataFrame\n",
    "census_pd = pd.DataFrame(census_data)\n",
    "\n",
    "# Column Reordering\n",
    "census_pd = census_pd.rename(columns={\"B01003_001E\": \"Population\",\n",
    "                                      \"B19013_001E\": \"Household Income\",\n",
    "                                      \"B19301_001E\": \"Per Capita Income\",\n",
    "                                      \"NAME\": \"State\", \"state\": \"State1\"})\n",
    "\n",
    "# Final DataFrame\n",
    "census_pd = census_pd[[\"State\", \"Population\", \"Household Income\",\n",
    "                       \"Per Capita Income\"]]"
   ]
  },
  {
   "cell_type": "code",
   "execution_count": null,
   "metadata": {},
   "outputs": [],
   "source": [
    "#Merge race and census data frames\n",
    "data_df = pd.merge(race_df, census_pd, on=\"State\")"
   ]
  },
  {
   "cell_type": "code",
   "execution_count": null,
   "metadata": {},
   "outputs": [],
   "source": [
    "#Convert object columns to numeric\n",
    "data_df['Cases_Total']=data_df['Cases_Total'].apply(pd.to_numeric)\n",
    "data_df['Cases_White']=data_df['Cases_White'].apply(pd.to_numeric)"
   ]
  },
  {
   "cell_type": "code",
   "execution_count": null,
   "metadata": {},
   "outputs": [],
   "source": [
    "#import state diversity information\n",
    "csv_path = \"Resources/csvDataDiversity.csv\"\n",
    "div_df = pd.read_csv(csv_path)\n",
    "\n",
    "#Merge the diversity dataframe with the full data dataframe\n",
    "diversity_df = pd.merge(div_df, data_df, on=\"State\")\n",
    "diversity_df = diversity_df[['Date', 'State', 'Population', 'Household Income', 'Per Capita Income',\n",
    "                             'WhitePerc', 'BlackPerc', 'NativePerc', 'AsianPerc', 'IslanderPerc',\n",
    "                             'OtherRacePerc', 'TwoOrMoreRacesPerc','Cases_Total', 'Cases_White',\n",
    "                             'Cases_Black', 'Cases_LatinX', 'Cases_Asian', 'Cases_AIAN', \n",
    "                             'Cases_NHPI', 'Cases_Multiracial', 'Cases_Other', 'Cases_Unknown',\n",
    "                             'Deaths_Total','Deaths_White', 'Deaths_Black', 'Deaths_LatinX', \n",
    "                             'Deaths_Asian', 'Deaths_AIAN', 'Deaths_NHPI', 'Deaths_Multiracial',\n",
    "                             'Deaths_Other', 'Deaths_Unknown']]\n",
    "\n",
    "#Write the dataframe to a csv file\n",
    "diversity_df.to_csv(\"projectone1_data.csv\")\n",
    "\n",
    "#View dataframe in jupyter notebook\n",
    "diversity_df.head()"
   ]
  },
  {
   "cell_type": "code",
   "execution_count": null,
   "metadata": {},
   "outputs": [],
   "source": [
    "#pull top-five percentage white\n",
    "diversity_df.sort_values(by=['WhitePerc'], inplace=True, ascending=False)\n",
    "top_five_df = diversity_df.head()\n",
    "\n",
    "#pull bottom five percentage white\n",
    "diversity_df.sort_values(by=['WhitePerc'], inplace=True)\n",
    "bottom_five_df = diversity_df.head()\n",
    "top_five_df\n",
    "bottom_five_df"
   ]
  },
  {
   "cell_type": "code",
   "execution_count": null,
   "metadata": {},
   "outputs": [],
   "source": [
    "#For Fun\n",
    "#import the Covid death counts by gender and state\n",
    "csv_path = \"Resources/Provisional_COVID-19_Death_Counts_by_Sex__Age__and_State (1).csv\"\n",
    "col_list = ['State','Sex','COVID-19 Deaths']\n",
    "sex_df = pd.read_csv(csv_path, usecols=col_list)\n",
    "gender_df = pd.merge(sex_df, diversity_df, on=\"State\")"
   ]
  },
  {
   "cell_type": "code",
   "execution_count": null,
   "metadata": {},
   "outputs": [],
   "source": [
    "#race_scatter = diversity_df.loc[:,['Cases_White', 'Cases_Black', 'Cases_LatinX', 'Cases_Asian', \n",
    "                                #'Cases_AIAN', 'Cases_NHPI', 'Cases_Multiracial', 'Cases_Other', \n",
    "                                   #'Cases_Unknown'\n",
    "#]]\n",
    "#race_scatter_df = pd.DataFrame(race_scatter.groupby(['State']))\n",
    "#x_axis =diversity_df['State']\n",
    "#y_axis = diversity_df['Cases_Total']\n",
    "#plt.bar(x_axis, y_axis)\n",
    "#plt.xticks(rotation = 'vertical', fontsize=6)\n",
    "#plt.xlim(0,len(x_axis))\n",
    "#plt.ylim(0, max(y_axis))\n",
    "#plt.figure(figsize=(40,75))"
   ]
  },
  {
   "cell_type": "code",
   "execution_count": null,
   "metadata": {},
   "outputs": [],
   "source": [
    "#Bar chart for racial demographic breakdown using matplotlib\n",
    "#Sum non-white minority groups for racial breakdown\n",
    "top_five_df[\"minority_groups\"] = top_five_df[\"BlackPerc\"] + top_five_df[\"NativePerc\"] + top_five_df[\"AsianPerc\"] + top_five_df[\"IslanderPerc\"] + top_five_df[\"OtherRacePerc\"] + top_five_df[\"TwoOrMoreRacesPerc\"]\n",
    "top_five_df[\"minority_group_infections\"] = top_five_df[\"Cases_Black\"] + top_five_df[\"Cases_LatinX\"] + top_five_df[\"Cases_Asian\"] + top_five_df[\"Cases_AIAN\"] + top_five_df[\"Cases_NHPI\"] + top_five_df[\"Cases_Multiracial\"] + top_five_df[\"Cases_Other\"] + top_five_df[\"Cases_Unknown\"]\n",
    "bottom_five_df[\"minority_group_infections\"] = bottom_five_df[\"Cases_Black\"] + bottom_five_df[\"Cases_LatinX\"] + bottom_five_df[\"Cases_Asian\"] + bottom_five_df[\"Cases_AIAN\"] + bottom_five_df[\"Cases_NHPI\"] + bottom_five_df[\"Cases_Multiracial\"] + bottom_five_df[\"Cases_Other\"] + bottom_five_df[\"Cases_Unknown\"]\n",
    "bottom_five_df[\"minority_groups\"] = bottom_five_df[\"BlackPerc\"] + bottom_five_df[\"NativePerc\"] + bottom_five_df[\"AsianPerc\"] + bottom_five_df[\"IslanderPerc\"] + bottom_five_df[\"OtherRacePerc\"] + bottom_five_df[\"TwoOrMoreRacesPerc\"]\n",
    "\n",
    "#create df for charts\n",
    "racial_breakdown_df = pd.merge(top_five_df, bottom_five_df, how='outer')\n",
    "racial_breakdown_df\n",
    "\n",
    "racial_breakdown_bar = racial_breakdown_df[[\"State\", \"WhitePerc\", \"minority_groups\"]]\n",
    "states = racial_breakdown_bar[\"State\"]\n",
    "racial_breakdown_bar = racial_breakdown_bar.set_index(states)\n",
    "\n",
    "#Plot chart using madplotlib\n",
    "A = racial_breakdown_bar[\"WhitePerc\"]\n",
    "B = racial_breakdown_bar[\"minority_groups\"]\n",
    "\n",
    "X = racial_breakdown_bar[\"State\"]\n",
    "\n",
    "plt.bar(X, A, color = 'darkred')\n",
    "plt.bar(X, B, color = 'lightcoral', bottom = A)\n",
    "\n",
    "#Chart formatting\n",
    "plt.xticks(rotation='vertical')\n",
    "plt.xlabel(\"States\")\n",
    "plt.ylabel(\"Population Racial Breakdown (%)\")\n",
    "plt.title(\"Population Breakdown by Racial Groups by States\")\n",
    "plt.figure(figsize=(10,7))\n",
    "plt.tight_layout()\n",
    "\n",
    "#Show and save chart\n",
    "plt.show()\n",
    "plt.savefig(\"Charts/Racial_Demographic_Breakdown.png\")"
   ]
  },
  {
   "cell_type": "code",
   "execution_count": null,
   "metadata": {},
   "outputs": [],
   "source": [
    "#Bar chart for COVID-19 infection rates breakdown by state\n",
    "\n",
    "#Determine % of population infected\n",
    "percentage_infected = racial_breakdown_df[\"Cases_Total\"] / racial_breakdown_df[\"Population\"]\n",
    "racial_breakdown_df[\"Percentage Infected\"] = percentage_infected \n",
    "\n",
    "#Determine % of deaths\n",
    "percentage_died = racial_breakdown_df[\"Deaths_Total\"] / racial_breakdown_df[\"Population\"]\n",
    "racial_breakdown_df[\"Death Percentage\"] = percentage_died\n",
    "\n",
    "covid_breakdown_bar = racial_breakdown_df[[\"State\", \"Percentage Infected\", \"Death Percentage\"]]\n",
    "states = covid_breakdown_bar[\"State\"]\n",
    "covid_breakdown_bar = covid_breakdown_bar.set_index(states)\n",
    "\n",
    "#Plot chart using madplotlib\n",
    "A = covid_breakdown_bar[\"Percentage Infected\"]\n",
    "B = covid_breakdown_bar[\"Death Percentage\"]\n",
    "\n",
    "X = covid_breakdown_bar[\"State\"]\n",
    "\n",
    "plt.bar(X, A, color = 'darkred')\n",
    "plt.bar(X, B, color = 'lightcoral', bottom = A)\n",
    "plt.xticks(rotation='vertical')\n",
    "\n",
    "#covid_breakdown_bar.plot(kind=\"bar\", stacked=True, alpha=0.4)\n",
    "\n",
    "# Chart our data, give it a title, and label the axes\n",
    "plt.xlabel(\"States\")\n",
    "plt.ylabel(\"COVID-19 Infection Rates\")\n",
    "plt.title(\"Percentage of Population Affected by COVID-19\")\n",
    "plt.legend(loc='best')\n",
    "\n",
    "plt.show()\n",
    "plt.tight_layout()\n",
    "plt.savefig(\"Charts/%_Population_COVID_barchart.png\")"
   ]
  },
  {
   "cell_type": "code",
   "execution_count": 26,
   "metadata": {},
   "outputs": [
    {
     "data": {
      "image/png": "[encoded data removed]",
      "text/plain": [
       "<Figure size 432x288 with 1 Axes>"
      ]
     },
     "metadata": {
      "needs_background": "light"
     },
     "output_type": "display_data"
    },
    {
     "data": {
      "text/plain": [
       "<Figure size 720x504 with 0 Axes>"
      ]
     },
     "metadata": {},
     "output_type": "display_data"
    },
    {
     "data": {
      "text/plain": [
       "<Figure size 432x288 with 0 Axes>"
      ]
     },
     "metadata": {},
     "output_type": "display_data"
    }
   ],
   "source": [
    "#Infection broken down by minorities\n",
    "\n",
    "#Determine % of infections that are minority\n",
    "racial_breakdown_df[\"minority_infection_rate\"] = racial_breakdown_df[\"minority_group_infections\"] / racial_breakdown_df[\"Cases_Total\"]\n",
    "racial_breakdown_df[\"white_infection_rate\"] = racial_breakdown_df[\"Cases_White\"] / racial_breakdown_df[\"Cases_Total\"]\n",
    "\n",
    "infection_breakdown_bar = racial_breakdown_df[[\"State\", \"minority_infection_rate\", \"white_infection_rate\"]]\n",
    "states = infection_breakdown_bar[\"State\"]\n",
    "infection_breakdown_bar = infection_breakdown_bar.set_index(states)\n",
    "\n",
    "#Plot chart using madplotlib\n",
    "A = infection_breakdown_bar[\"white_infection_rate\"]\n",
    "\n",
    "X = infection_breakdown_bar[\"State\"]\n",
    "\n",
    "plt.bar(X, A, color = 'darkred')\n",
    "#plt.bar(X, B, color = 'lightcoral', bottom = A)\n",
    "\n",
    "#Chart formatting\n",
    "plt.xticks(rotation='vertical')\n",
    "plt.xlabel(\"States\")\n",
    "plt.ylabel(\"COVID Infection Breakdown by Race (White %)\")\n",
    "plt.title(\"Infection Rates (Whites) by State\")\n",
    "plt.figure(figsize=(10,7))\n",
    "plt.tight_layout()\n",
    "\n",
    "#Show and save chart\n",
    "plt.show()\n",
    "plt.savefig(\"Charts/White_Infection_Rate_by_State.png\")"
   ]
  },
  {
   "cell_type": "code",
   "execution_count": null,
   "metadata": {},
   "outputs": [],
   "source": [
    "#Scatter Plot: Infection Rates by % of Minority - matplotlib\n",
    "\n",
    "infections = covid_breakdown_bar[\"Percentage Infected\"]\n",
    "demographics = racial_breakdown_df[\"minority_groups\"]\n",
    "\n",
    "# Without scoop_price\n",
    "plt.scatter(infections, demographics, marker=\"o\", facecolors=\"lightcoral\", edgecolors=\"black\")\n",
    "\n",
    "# Chart Formatting\n",
    "plt.xlim(0,.015)\n",
    "plt.title(\"COVID-19 Infection Rate vs. % of Population - Minorities\")\n",
    "plt.xlabel(\"COVID-19 Infection Rate\")\n",
    "plt.ylabel(\"% of Population - Minorities\")\n",
    "\n",
    "plt.savefig(\"Charts/Infection_Rate_vs_Minorities.png\")"
   ]
  },
  {
   "cell_type": "code",
   "execution_count": null,
   "metadata": {
    "scrolled": true
   },
   "outputs": [],
   "source": [
    "#Scatter Plot: Infection Rates by % of Whites - matplotlib\n",
    "\n",
    "deaths = racial_breakdown_df[\"Death Percentage\"]\n",
    "demographics = racial_breakdown_df[\"minority_groups\"]\n",
    "\n",
    "# Without scoop_price\n",
    "plt.scatter(deaths, demographics, marker=\"o\", facecolors=\"salmon\", edgecolors=\"black\", alpha=0.8)\n",
    "\n",
    "# Chart Formatting\n",
    "plt.xlim(0,.00065)\n",
    "plt.title(\"COVID-19 Death Rate vs. % of Population - Minorities\")\n",
    "plt.xlabel(\"COVID-19 Death Rate\")\n",
    "plt.ylabel(\"% of Population - Minorities\")\n",
    "\n",
    "plt.savefig(\"Charts/Death_Rate_vs_Minorities.png\")"
   ]
  },
  {
   "cell_type": "code",
   "execution_count": null,
   "metadata": {},
   "outputs": [],
   "source": []
  },
  {
   "cell_type": "code",
   "execution_count": null,
   "metadata": {},
   "outputs": [],
   "source": []
  },
  {
   "cell_type": "code",
   "execution_count": null,
   "metadata": {},
   "outputs": [],
   "source": []
  }
 ],
 "metadata": {
  "kernelspec": {
   "display_name": "Python 3",
   "language": "python",
   "name": "python3"
  },
  "language_info": {
   "codemirror_mode": {
    "name": "ipython",
    "version": 3
   },
   "file_extension": ".py",
   "mimetype": "text/x-python",
   "name": "python",
   "nbconvert_exporter": "python",
   "pygments_lexer": "ipython3",
   "version": "3.6.10"
  }
 },
 "nbformat": 4,
 "nbformat_minor": 4
}
